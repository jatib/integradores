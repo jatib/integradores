{
 "cells": [
  {
   "cell_type": "code",
   "execution_count": 1,
   "metadata": {
    "collapsed": true
   },
   "outputs": [],
   "source": [
    "from pylab import *\n",
    "%matplotlib inline"
   ]
  },
  {
   "cell_type": "code",
   "execution_count": 11,
   "metadata": {
    "collapsed": false
   },
   "outputs": [],
   "source": [
    "def rk4(ec,p_ini,x,args=0, h = 0.01):\n",
    "    if (x[1]-x[0])>=5.*h:\n",
    "        h = (x[1]-x[0])/10\n",
    "    tiempos = arange(x[0],x[1]+h,h)\n",
    "    sol = zeros((len(tiempos),len(p_ini)))\n",
    "    sol[0,:] = p_ini\n",
    "    \n",
    "    if args == 0:\n",
    "        for i in xrange(len(tiempos)-1):\n",
    "            k1 = ec(sol[i,:],tiempos[i])\n",
    "            k2 = ec(sol[i,:]+0.5*h*k1,tiempos[i]+h*0.5)\n",
    "            k3 = ec(sol[i,:]+0.5*h*k2,tiempos[i]+h*0.5)\n",
    "            k4 = ec(sol[i,:]+h*k3,tiempos[i]+h)\n",
    "            sol[i+1,:]=sol[i,:]+(h/6.)*(k1+2*k2+2*k3+k4)\n",
    "    else:\n",
    "        for i in xrange(len(tiempos)-1):\n",
    "            k1 = ec(sol[i,:],tiempos[i],args)\n",
    "            k2 = ec(sol[i,:]+0.5*h*k1,tiempos[i]+h*0.5,args)\n",
    "            k3 = ec(sol[i,:]+0.5*h*k2,tiempos[i]+h*0.5,args)\n",
    "            k4 = ec(sol[i,:]+h*k3,tiempos[i]+h,args)\n",
    "            sol[i+1,:]=sol[i,:]+(h/6.)*(k1+2*k2+2*k3+k4)\n",
    "    return tiempos,sol"
   ]
  },
  {
   "cell_type": "code",
   "execution_count": 3,
   "metadata": {
    "collapsed": true
   },
   "outputs": [],
   "source": [
    "def e_mov(r_v,t,fric=0,g=9.80665,m=1):\n",
    "    u =sqrt(r_v[2]**2+r_v[3]**2)\n",
    "    dx=r_v[2]\n",
    "    dy=r_v[3]\n",
    "    if fric == 0:\n",
    "        dvx,dvy=0,-(g/m)\n",
    "        #print \"No use un modelo de friccion\"\n",
    "    else:\n",
    "        dvx= -(fric([r_v[2],r_v[3]])[0])\n",
    "        dvy= -(g/m) -(fric([r_v[2],r_v[3]])[1])\n",
    "        #print \"Use un modelo de friccion\"\n",
    "    return array([dx,dy,dvx,dvy])"
   ]
  },
  {
   "cell_type": "code",
   "execution_count": 4,
   "metadata": {
    "collapsed": true
   },
   "outputs": [],
   "source": [
    "def fric_id(v):\n",
    "    return([0,0])\n",
    "\n",
    "def fric_v(v,gamma=0.1):\n",
    "    f_x =gamma*v[0]\n",
    "    f_y =gamma*v[1]\n",
    "    return array([f_x,f_y])\n",
    "\n",
    "def fric_v2(v,gamma=0.1):\n",
    "    norm_v = sqrt(v[0]**2+v[1]**2)\n",
    "    f_x =gamma*norm_v*v[0]\n",
    "    f_y =gamma*norm_v*v[1]\n",
    "    return array([f_x,f_y])"
   ]
  },
  {
   "cell_type": "code",
   "execution_count": 5,
   "metadata": {
    "collapsed": false
   },
   "outputs": [
    {
     "name": "stdout",
     "output_type": "stream",
     "text": [
      "[ 1.       1.       0.      -9.80665]\n",
      "[ 1.       1.       0.      -9.80665]\n",
      "[ 1.       1.      -0.1     -9.90665]\n",
      "[ 1.          1.         -0.14142136 -9.94807136]\n"
     ]
    }
   ],
   "source": [
    "print e_mov([1,1,1,1],10)\n",
    "print e_mov([1,1,1,1],1,fric_id)\n",
    "print e_mov([1,1,1,1],1,fric_v)\n",
    "print e_mov([1,1,1,1],1,fric_v2)"
   ]
  },
  {
   "cell_type": "code",
   "execution_count": 6,
   "metadata": {
    "collapsed": false
   },
   "outputs": [
    {
     "data": {
      "text/plain": [
       "[<matplotlib.lines.Line2D at 0x7fe3f0e028d0>]"
      ]
     },
     "execution_count": 6,
     "metadata": {},
     "output_type": "execute_result"
    },
    {
     "data": {
      "image/png": "[encoded data removed]",
      "text/plain": [
       "<matplotlib.figure.Figure at 0x7fe3f3319310>"
      ]
     },
     "metadata": {},
     "output_type": "display_data"
    }
   ],
   "source": [
    "#rk4(ec,p_ini,x,args=0, h = 0.1):\n",
    "p = [0,0,5,5]\n",
    "t,sol_id = rk4(e_mov,p,[0,1],0,0.1)\n",
    "t,sol_fv = rk4(e_mov,p,[0,1],fric_v,0.1)\n",
    "t,sol_fv2 = rk4(e_mov,p,[0,1],fric_v2,0.1)\n",
    "plot(sol_id[:,0],sol_id[:,1],'o')\n",
    "plot(sol_fv[:,0],sol_fv[:,1],'o')\n",
    "plot(sol_fv2[:,0],sol_fv2[:,1],'o')"
   ]
  },
  {
   "cell_type": "code",
   "execution_count": 12,
   "metadata": {
    "collapsed": false
   },
   "outputs": [
    {
     "name": "stdout",
     "output_type": "stream",
     "text": [
      "Buscando punto de rebote\n"
     ]
    },
    {
     "data": {
      "image/png": "[encoded data removed]",
      "text/plain": [
       "<matplotlib.figure.Figure at 0x7fe3f3333710>"
      ]
     },
     "metadata": {},
     "output_type": "display_data"
    }
   ],
   "source": [
    "inicio = [0,0,5,5]\n",
    "N = 500\n",
    "trayectoria = zeros((500,len(inicio)))\n",
    "mi_dt = .1 \n",
    "trayectoria[0,:]=array([1,2,3,4])\n",
    "for i in range(N):\n",
    "    t,sol_dt = rk4(e_mov,trayectoria[i,:],[0,mi_dt],fric_v)\n",
    "    if sol_dt[-1,:][1] < 0:\n",
    "        print \"Buscando punto de rebote\"\n",
    "        dt_debusqueda = mi_dt/2\n",
    "        y_izq = trayectoria[i,:]\n",
    "        t,sol = rk4(e_mov,trayectoria[i,:],[0,dt_debusqueda],fric_v)\n",
    "        y_med = sol[-1,:]\n",
    "        n = 0\n",
    "        while  abs(y_izq[1]) > 1e-5:\n",
    "            if y_izq[1]*y_med[1] < 0:\n",
    "                reinicio = y_izq\n",
    "            else:\n",
    "                reinicio = y_med\n",
    "            dt_debusqueda = dt_debusqueda/2\n",
    "            t,sol = rk4(e_mov,trayectoria[i,:],[0,dt_debusqueda],fric_v)\n",
    "            y_izq =  reinicio\n",
    "            y_med = sol[-1,:]\n",
    "            n = n + 1\n",
    "            if n == 10:\n",
    "                break\n",
    "        break\n",
    "    trayectoria[i+1,:] = sol_dt[-1,:]\n",
    "plot(trayectoria[:,0],trayectoria[:,1],'o')\n",
    "#plot(sol_fv[:,0],sol_fv[:,1],'o')\n",
    "\n",
    "show()"
   ]
  },
  {
   "cell_type": "code",
   "execution_count": null,
   "metadata": {
    "collapsed": true
   },
   "outputs": [],
   "source": []
  },
  {
   "cell_type": "code",
   "execution_count": 8,
   "metadata": {
    "collapsed": true
   },
   "outputs": [],
   "source": [
    "def test(p_ini,x,h=0.1):\n",
    "    tiempos = arange(x[0],x[1]+h,h)\n",
    "    sol = zeros((len(tiempos),len(p_ini)))\n",
    "    return sol[:,0]"
   ]
  },
  {
   "cell_type": "code",
   "execution_count": null,
   "metadata": {
    "collapsed": true
   },
   "outputs": [],
   "source": []
  },
  {
   "cell_type": "code",
   "execution_count": null,
   "metadata": {
    "collapsed": true
   },
   "outputs": [],
   "source": []
  },
  {
   "cell_type": "code",
   "execution_count": 9,
   "metadata": {
    "collapsed": false
   },
   "outputs": [
    {
     "name": "stdout",
     "output_type": "stream",
     "text": [
      "[ 0.  0.  0.  0.  0.  0.  0.  0.]\n"
     ]
    }
   ],
   "source": [
    "print test([1,2],[1,8],1)"
   ]
  }
 ],
 "metadata": {
  "kernelspec": {
   "display_name": "Python [Root]",
   "language": "python",
   "name": "Python [Root]"
  },
  "language_info": {
   "codemirror_mode": {
    "name": "ipython",
    "version": 2
   },
   "file_extension": ".py",
   "mimetype": "text/x-python",
   "name": "python",
   "nbconvert_exporter": "python",
   "pygments_lexer": "ipython2",
   "version": "2.7.12"
  }
 },
 "nbformat": 4,
 "nbformat_minor": 0
}
