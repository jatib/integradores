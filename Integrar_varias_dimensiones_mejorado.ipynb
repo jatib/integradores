{
 "cells": [
  {
   "cell_type": "markdown",
   "metadata": {},
   "source": [
    "# Metodo de Runge Kutta  y Euler 2do Orden"
   ]
  },
  {
   "cell_type": "markdown",
   "metadata": {},
   "source": [
    "Para obtener un mejor resultado en la integración es mejor utilizar la aproximación de segundo orden y con varias variables. Como vimos en clase:\n",
    "\n",
    "$$ \\vec y_{n+1} = \\vec y_n + h \\vec f+ \\frac{1}{2}h^2 \\left( \\frac{\\partial \\vec f}{\\partial x} + \\mathbb{J} \\vec f \\right)$$"
   ]
  },
  {
   "cell_type": "markdown",
   "metadata": {},
   "source": [
    "dónde $\\vec f$ es $\\vec f(x_n,\\vec y_n)$, $\\mathbb{J}$ es el jacobiano de $f$ en $(x_n,\\vec y_n)$ y el orden de error es de $O(h²)$"
   ]
  },
  {
   "cell_type": "code",
   "execution_count": 2,
   "metadata": {
    "collapsed": false
   },
   "outputs": [],
   "source": [
    "from pylab import *\n",
    "%matplotlib inline"
   ]
  },
  {
   "cell_type": "code",
   "execution_count": 104,
   "metadata": {
    "collapsed": false
   },
   "outputs": [
    {
     "data": {
      "text/plain": [
       "[<matplotlib.lines.Line2D at 0x7f59138a9e10>]"
      ]
     },
     "execution_count": 104,
     "metadata": {},
     "output_type": "execute_result"
    },
    {
     "data": {
      "image/png": "[encoded data removed]",
      "text/plain": [
       "<matplotlib.figure.Figure at 0x7f5912db1f90>"
      ]
     },
     "metadata": {},
     "output_type": "display_data"
    }
   ],
   "source": [
    "def integra2(ec,d_ec,p_ini,x,h = 0.1):\n",
    "    tiempos = arange(x[0],x[1]+h,h)\n",
    "    sol = zeros((len(tiempos),len(p_ini)))\n",
    "    sol[0,:] = p_ini\n",
    "    for i in xrange(len(tiempos)-1):\n",
    "        f=ec(sol[i,:],tiempos[i])\n",
    "        df,jac = d_ec(sol[i,:],tiempos[i])\n",
    "        sol[i+1,:]=sol[i,:]+h*f+(0.5*h*h*(df+dot(jac,f)))\n",
    "    return tiempos,sol\n",
    "\n",
    "def prueba(y,t):\n",
    "    return array([y[1],-y[0]])\n",
    "def d_prueba(y,t):\n",
    "    return array([0,0]),array([[0,1],[-1,0]])\n",
    "t,y = integra2(prueba,d_prueba,[1,0],[0,50],0.001)\n",
    "plot(y[:,0],y[:,1])\n",
    "#plot(t,y[:,0],t,cos(t))"
   ]
  },
  {
   "cell_type": "code",
   "execution_count": 16,
   "metadata": {
    "collapsed": false
   },
   "outputs": [
    {
     "name": "stdout",
     "output_type": "stream",
     "text": [
      "[[ 0.  0.  0.  0.  0.  0.]\n",
      " [ 0.  0.  0.  0.  0.  0.]]\n",
      "\n",
      "\n",
      "[[ 0.  9.  0.  0.  0.  0.]\n",
      " [ 0.  3.  0.  0.  0.  0.]] \n",
      "\n",
      "\n",
      "[ 9.  3.] \n",
      "\n",
      "\n",
      "[ 0.  3.  0.  0.  0.  0.] \n",
      "\n",
      "\n",
      "<type 'numpy.ndarray'>\n"
     ]
    }
   ],
   "source": [
    "x = zeros((2,6))\n",
    "print x\n",
    "x[1,1]=3\n",
    "x[0,1]=9\n",
    "print \"\\n\\n\",x,\"\\n\\n\"\n",
    "print x[:,1],\"\\n\\n\"\n",
    "print x[1,:],\"\\n\\n\"\n",
    "print type(x[1,:])"
   ]
  },
  {
   "cell_type": "code",
   "execution_count": 117,
   "metadata": {
    "collapsed": false
   },
   "outputs": [
    {
     "data": {
      "text/plain": [
       "[<matplotlib.lines.Line2D at 0x7f591342c410>]"
      ]
     },
     "execution_count": 117,
     "metadata": {},
     "output_type": "execute_result"
    },
    {
     "data": {
      "image/png": "[encoded data removed]",
      "text/plain": [
       "<matplotlib.figure.Figure at 0x7f59133b5290>"
      ]
     },
     "metadata": {},
     "output_type": "display_data"
    }
   ],
   "source": [
    "def p(y,t):\n",
    "    return array([y[1],-2*y[1]-0.5*sin(y[0])+exp(-t)])\n",
    "\n",
    "def p2(y,t):\n",
    "    return array([y[1],-2*y[1]-0.5*sin(y[0])+cos(t)])\n",
    "\n",
    "def dp(y,t):\n",
    "    return array([0,-exp(-t)]), array([[0,1],[-0.5*cos(y[0]),-2]])\n",
    "\n",
    "def dp2(y,t):\n",
    "    return array([0,cos(t)]),array([[0,1],[-0.5*cos(y[0]),-2]])\n",
    "\n",
    "t,y = integra2(p2,dp2,[1,0],[0,100],0.001)\n",
    "t2,y2 = integra2(p,dp,[1,0],[0,100],0.1)\n",
    "#plot(t,y)\n",
    "plot(y[:,0],y[:,1])\n",
    "#plot(y2[:,0],y2[:,1])"
   ]
  },
  {
   "cell_type": "code",
   "execution_count": null,
   "metadata": {
    "collapsed": true
   },
   "outputs": [],
   "source": [
    "#jn1=yn+(h*f)+(0.5*h*h*(ja[0]+dot(jac[1],f)))"
   ]
  },
  {
   "cell_type": "code",
   "execution_count": 120,
   "metadata": {
    "collapsed": false
   },
   "outputs": [],
   "source": [
    "def rk2(ec,p_ini,x,h = 0.1):\n",
    "    tiempos = arange(x[0],x[1]+h,h)\n",
    "    sol = zeros((len(tiempos),len(p_ini)))\n",
    "    sol[0,:] = p_ini\n",
    "    for i in xrange(len(tiempos)-1):\n",
    "        k = h*ec(sol[i,:],tiempos[i])\n",
    "        f = ec(sol[i,:]+0.5*k,tiempos[i]+0.5*h)\n",
    "        sol[i+1,:]=sol[i,:]+h*f\n",
    "    return tiempos,sol"
   ]
  },
  {
   "cell_type": "code",
   "execution_count": 124,
   "metadata": {
    "collapsed": false
   },
   "outputs": [
    {
     "data": {
      "text/plain": [
       "[<matplotlib.lines.Line2D at 0x7f5913706410>]"
      ]
     },
     "execution_count": 124,
     "metadata": {},
     "output_type": "execute_result"
    },
    {
     "data": {
      "image/png": "[encoded data removed]",
      "text/plain": [
       "<matplotlib.figure.Figure at 0x7f5911d5be50>"
      ]
     },
     "metadata": {},
     "output_type": "display_data"
    }
   ],
   "source": [
    "t,y = rk2(p2,[1,0],[0,100],0.001)\n",
    "#t2,y2 = integra2(p,dp,[1,0],[0,100],0.1)\n",
    "#plot(t,y)\n",
    "plot(y[:,0],y[:,1])\n",
    "#plot(y2[:,0],y2[:,1])"
   ]
  },
  {
   "cell_type": "code",
   "execution_count": null,
   "metadata": {
    "collapsed": true
   },
   "outputs": [],
   "source": [
    "ftp://91.193.237.1/pub/docs/linux-support/programming/Python/Numerical%20Methods%20in%20Engineering%20with%20Python,%202nd%20Edition%20[Jaan%20Kiusalaas]%20(2010)/Numerical.Methods.in.Engineering.with.Python.2nd.Edition.Jaan.Kiusalaas.2010.pdf"
   ]
  },
  {
   "cell_type": "code",
   "execution_count": 57,
   "metadata": {
    "collapsed": false
   },
   "outputs": [
    {
     "name": "stdout",
     "output_type": "stream",
     "text": [
      "[2 6] [2, 6]\n",
      "[ 4 12] [2, 6, 2, 6]\n"
     ]
    }
   ],
   "source": [
    "a = array([2,6])\n",
    "b = [2,6]\n",
    "print a,b\n",
    "print 2*a , 2*b"
   ]
  },
  {
   "cell_type": "code",
   "execution_count": 58,
   "metadata": {
    "collapsed": false
   },
   "outputs": [
    {
     "name": "stdout",
     "output_type": "stream",
     "text": [
      "Impresión de Array: \n",
      "\n",
      "[[1 0]\n",
      " [0 1]] \n",
      "\n",
      "Impresión de matrix:\n",
      "\n",
      "[[3 0]\n",
      " [0 3]] \n",
      "\n",
      "Impresión de la segunda entrada de la matriz A:\n",
      "\n",
      "0 \n",
      "\n",
      "\n",
      "[[2 0]\n",
      " [0 6]] \n",
      "\n",
      "[[2 0]\n",
      " [0 6]] \n",
      "\n",
      "\n",
      "[2 6] \n",
      "\n",
      "[[ 6 18]] \n",
      "\n",
      "\n",
      "\n",
      "\n",
      "Prodcuto de matrices con *:\n",
      "\n",
      "[[3 0]\n",
      " [0 3]] \n",
      "\n",
      "\n",
      "\n",
      "\n",
      "Prodcuto de matrices con dot:\n",
      "\n",
      "[[3 0]\n",
      " [0 3]] \n",
      "\n",
      "\n"
     ]
    }
   ],
   "source": [
    "# A = array([[1,0],[0,1]])\n",
    "# A2= matrix([[3,0],[0,3]])\n",
    "# print \"Impresión de Array: \\n\\n\",A,\"\\n\\nImpresión de matrix:\\n\\n\",A2,\"\\n\\nImpresión de la segunda entrada de la matriz A:\\n\\n\",A[0,1],\"\\n\\n\"\n",
    "# print A*b,\"\\n\\n\", A*b,\"\\n\\n\"\n",
    "# print dot(A,b),\"\\n\\n\", dot(b,A2),\"\\n\\n\"\n",
    "# print \"\\n\\nProdcuto de matrices con *:\\n\\n\",A*A2,\"\\n\\n\"\n",
    "# print \"\\n\\nProdcuto de matrices con dot:\\n\\n\",dot(A2,A),\"\\n\\n\""
   ]
  },
  {
   "cell_type": "code",
   "execution_count": 63,
   "metadata": {
    "collapsed": false
   },
   "outputs": [
    {
     "name": "stdout",
     "output_type": "stream",
     "text": [
      "\n",
      "\n",
      "Entradas de la matriz:\n",
      "\n",
      "1 2 3 4\n",
      "\n",
      "\n",
      " El prodcuto punto no funciona con *:\n",
      "\n",
      "[[ 6 14]\n",
      " [18 28]]\n",
      "\n",
      "\n",
      " pero sí con dot<x,y>:\n",
      "\n",
      "[20 46]\n"
     ]
    }
   ],
   "source": [
    "ASS = array([[1,2],[3,4]])\n",
    "aa = array([6,7])\n",
    "print \"\\n\\nEntradas de la matriz:\\n\\n\",ASS[0,0],ASS[0,1],ASS[1,0],ASS[1,1]\n",
    "print \"\\n\\n El prodcuto punto no funciona con *:\\n\\n\",ASS*aa\n",
    "print \"\\n\\n pero sí con dot<x,y>:\\n\\n\",dot(ASS,aa)"
   ]
  }
 ],
 "metadata": {
  "kernelspec": {
   "display_name": "Python [Root]",
   "language": "python",
   "name": "Python [Root]"
  },
  "language_info": {
   "codemirror_mode": {
    "name": "ipython",
    "version": 2
   },
   "file_extension": ".py",
   "mimetype": "text/x-python",
   "name": "python",
   "nbconvert_exporter": "python",
   "pygments_lexer": "ipython2",
   "version": "2.7.12"
  }
 },
 "nbformat": 4,
 "nbformat_minor": 0
}
