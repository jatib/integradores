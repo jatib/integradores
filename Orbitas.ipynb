{
 "cells": [
  {
   "cell_type": "code",
   "execution_count": 13,
   "metadata": {
    "collapsed": false
   },
   "outputs": [],
   "source": [
    "from pylab import *\n",
    "%run \"mis_int.ipynb\"\n",
    "%matplotlib inline"
   ]
  },
  {
   "cell_type": "markdown",
   "metadata": {},
   "source": [
    "Hay que resolver\n",
    "$$\\dfrac{d²\\vec \\rho}{d \\tau ^2}=-\\dfrac{\\hat \\rho}{\\rho ²}$$"
   ]
  },
  {
   "cell_type": "code",
   "execution_count": 15,
   "metadata": {
    "collapsed": true
   },
   "outputs": [],
   "source": [
    "def mov_planeta(x,t):\n",
    "    r3 = (x[0]**2 + x[1]**2)**(1.5)\n",
    "    drx = x[2]\n",
    "    dry = x[3]\n",
    "    dvrx = -x[0]/r3\n",
    "    dvry = -x[1]/r3\n",
    "    return array([drx,dry,dvrx,dvry])"
   ]
  },
  {
   "cell_type": "code",
   "execution_count": 54,
   "metadata": {
    "collapsed": false
   },
   "outputs": [
    {
     "data": {
      "image/png": "[encoded data removed]",
      "text/plain": [
       "<matplotlib.figure.Figure at 0x7f8a1b6256d0>"
      ]
     },
     "metadata": {},
     "output_type": "display_data"
    }
   ],
   "source": [
    "t,r_vr =rk2(mov_planeta,[1,0,.6,.9],[0,10],0.01)\n",
    "zoom = 2\n",
    "xlim([-zoom,zoom]),ylim([-zoom,zoom])\n",
    "axes().set_aspect('equal'),grid(True)\n",
    "plot(r_vr[:,0],r_vr[:,1],'.')\n",
    "show()"
   ]
  }
 ],
 "metadata": {
  "kernelspec": {
   "display_name": "Python [Root]",
   "language": "python",
   "name": "Python [Root]"
  },
  "language_info": {
   "codemirror_mode": {
    "name": "ipython",
    "version": 2
   },
   "file_extension": ".py",
   "mimetype": "text/x-python",
   "name": "python",
   "nbconvert_exporter": "python",
   "pygments_lexer": "ipython2",
   "version": "2.7.12"
  }
 },
 "nbformat": 4,
 "nbformat_minor": 0
}
