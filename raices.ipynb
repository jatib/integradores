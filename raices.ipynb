{
 "cells": [
  {
   "cell_type": "code",
   "execution_count": 43,
   "metadata": {
    "collapsed": true
   },
   "outputs": [],
   "source": [
    "from pylab import *\n",
    "%matplotlib inline"
   ]
  },
  {
   "cell_type": "code",
   "execution_count": 44,
   "metadata": {
    "collapsed": false
   },
   "outputs": [],
   "source": [
    "# def raiz_bip(func,x_i,x_d,err=1e-8):\n",
    "#     raiz = 0.5*(x_i+x_d)\n",
    "#     y_i,y_d = func(x_i),func(x_d)\n",
    "#     n = 0\n",
    "#     while abs(raiz-x_d)>=err and abs(y_d-y_i)>= err:\n",
    "#         y_m = func(x_d)\n",
    "#         if y_m == 0:\n",
    "#             print \"chin le atiné :D\"\n",
    "#             break\n",
    "#         if y_m*y_i < 0:\n",
    "#             x_d = raiz\n",
    "#         else:\n",
    "#             x_i=raiz\n",
    "#         raiz = 0.5*(x_i+x_d)\n",
    "#         y_i,y_d = func(x_i),func(x_d)\n",
    "#         n += 1\n",
    "#         print \"paso: \",n,\" raiz=\",raiz\n",
    "#     return raiz"
   ]
  },
  {
   "cell_type": "code",
   "execution_count": 45,
   "metadata": {
    "collapsed": true
   },
   "outputs": [],
   "source": [
    "def raiz_bip(func,x_i,x_d,err=1e-8):\n",
    "    raiz = 0.5*(x_i+x_d)\n",
    "    y_i,y_d = func(x_i),func(x_d)\n",
    "    n = 0\n",
    "    while abs(raiz-x_d)>=err and abs(y_d-y_i)>= err:\n",
    "        y_m = func(x_d)\n",
    "        if y_m == 0:\n",
    "            print \"chin le atiné :D\"\n",
    "            break\n",
    "        if y_m*y_i < 0:\n",
    "            x_d = raiz\n",
    "        else:\n",
    "            x_i=raiz\n",
    "        raiz = 0.5*(x_i+x_d)\n",
    "        y_i,y_d = func(x_i),func(x_d)\n",
    "        n += 1\n",
    "        print \"paso: \",n,\" raiz=\",raiz\n",
    "    return raiz"
   ]
  },
  {
   "cell_type": "code",
   "execution_count": 88,
   "metadata": {
    "collapsed": false
   },
   "outputs": [],
   "source": [
    "def num_dev(f,x,h=1e-4):\n",
    "    return (f(x+h)-f(x-h))/(2.*h)"
   ]
  },
  {
   "cell_type": "code",
   "execution_count": 90,
   "metadata": {
    "collapsed": false
   },
   "outputs": [],
   "source": [
    "def num_dev_mej(f,x,h=1e-4):\n",
    "    return (f(x-2*h)+8*f(x+h)-8*f(x-h)-f(x+2*h))/(12.*h)"
   ]
  },
  {
   "cell_type": "code",
   "execution_count": 89,
   "metadata": {
    "collapsed": true
   },
   "outputs": [],
   "source": [
    "def mi_newton_1(func,d_func,x_ini,err=1e-10):\n",
    "    n = 1\n",
    "    while abs(func(x_ini)) >= err:\n",
    "        print n,\"\\t\",x_ini\n",
    "        raiz = x_ini - func(x_ini)/d_func(x_ini)\n",
    "        x_ini = raiz\n",
    "        n += 1\n",
    "    return raiz"
   ]
  },
  {
   "cell_type": "code",
   "execution_count": 81,
   "metadata": {
    "collapsed": true
   },
   "outputs": [],
   "source": [
    "def mi_newton_2(func,x_ini,err=1e-10):\n",
    "    n = 0\n",
    "    while abs(func(x_ini)) >= err:\n",
    "        print n,\"\\t\",x_ini\n",
    "        raiz = x_ini - func(x_ini)/num_dev(func,x_ini)\n",
    "        x_ini = raiz\n",
    "        n += 1\n",
    "    return raiz"
   ]
  },
  {
   "cell_type": "code",
   "execution_count": 91,
   "metadata": {
    "collapsed": false
   },
   "outputs": [
    {
     "name": "stdout",
     "output_type": "stream",
     "text": [
      "0.707106781187\n",
      "0.707106780008\n",
      "0.707106781187\n"
     ]
    }
   ],
   "source": [
    "print cos(pi/4)\n",
    "print num_dev(sin,pi/4)\n",
    "print num_dev_mej(sin,pi/4)"
   ]
  },
  {
   "cell_type": "code",
   "execution_count": 93,
   "metadata": {
    "collapsed": false
   },
   "outputs": [
    {
     "name": "stdout",
     "output_type": "stream",
     "text": [
      "0.923879532511\n",
      "0.923879530972\n",
      "0.923879532511\n"
     ]
    }
   ],
   "source": [
    "a = pi/8\n",
    "print cos(a)\n",
    "print num_dev(sin,a)\n",
    "print num_dev_mej(sin,a)"
   ]
  },
  {
   "cell_type": "code",
   "execution_count": 92,
   "metadata": {
    "collapsed": false
   },
   "outputs": [
    {
     "name": "stdout",
     "output_type": "stream",
     "text": [
      "0 \t1.67079632679\n",
      "1 \t11.6374407667\n",
      "2 \t12.9753246623\n",
      "3 \t12.5419364293\n",
      "4 \t12.5663754782\n",
      "12.5663706144\n",
      "12.5663706144\n"
     ]
    }
   ],
   "source": [
    "print mi_newton_2(sin,pi/2+0.1)\n",
    "print 4*pi"
   ]
  },
  {
   "cell_type": "code",
   "execution_count": 47,
   "metadata": {
    "collapsed": false
   },
   "outputs": [
    {
     "name": "stdout",
     "output_type": "stream",
     "text": [
      "La raiz es:  paso:  1  raiz= 2.5\n",
      "paso:  2  raiz= 2.75\n",
      "paso:  3  raiz= 2.875\n",
      "paso:  4  raiz= 2.9375\n",
      "paso:  5  raiz= 2.96875\n",
      "paso:  6  raiz= 2.984375\n",
      "paso:  7  raiz= 2.9921875\n",
      "paso:  8  raiz= 2.99609375\n",
      "paso:  9  raiz= 2.998046875\n",
      "paso:  10  raiz= 2.9990234375\n",
      "paso:  11  raiz= 2.99951171875\n",
      "paso:  12  raiz= 2.99975585938\n",
      "paso:  13  raiz= 2.99987792969\n",
      "paso:  14  raiz= 2.99993896484\n",
      "paso:  15  raiz= 2.99996948242\n",
      "paso:  16  raiz= 2.99998474121\n",
      "paso:  17  raiz= 2.99999237061\n",
      "paso:  18  raiz= 2.9999961853\n",
      "paso:  19  raiz= 2.99999809265\n",
      "paso:  20  raiz= 2.99999904633\n",
      "paso:  21  raiz= 2.99999952316\n",
      "paso:  22  raiz= 2.99999976158\n",
      "paso:  23  raiz= 2.99999988079\n",
      "paso:  24  raiz= 2.9999999404\n",
      "paso:  25  raiz= 2.9999999702\n",
      "paso:  26  raiz= 2.9999999851\n",
      "paso:  27  raiz= 2.99999999255\n",
      "2.99999999255\n",
      "pi  3.14159265359\n"
     ]
    }
   ],
   "source": [
    "print \"La raiz es: \", raiz_bip(sin,2,4)\n",
    "print \"pi \", pi"
   ]
  },
  {
   "cell_type": "code",
   "execution_count": 48,
   "metadata": {
    "collapsed": false
   },
   "outputs": [
    {
     "name": "stdout",
     "output_type": "stream",
     "text": [
      "1 \t2\n",
      "2 \t4.18503986326\n",
      "3 \t2.46789367451\n",
      "4 \t3.26618627757\n",
      "5 \t3.14094391232\n",
      "3.14159265368\n"
     ]
    }
   ],
   "source": [
    "print mi_newton_1(sin,cos,2)"
   ]
  },
  {
   "cell_type": "code",
   "execution_count": 49,
   "metadata": {
    "collapsed": false
   },
   "outputs": [
    {
     "data": {
      "image/png": "[encoded data removed]",
      "text/plain": [
       "<matplotlib.figure.Figure at 0x7f5f423a8c10>"
      ]
     },
     "metadata": {},
     "output_type": "display_data"
    }
   ],
   "source": [
    "x=linspace(3,4)\n",
    "plot(x,sin(x))\n",
    "grid(True)\n",
    "show()"
   ]
  },
  {
   "cell_type": "code",
   "execution_count": 50,
   "metadata": {
    "collapsed": false
   },
   "outputs": [],
   "source": [
    "def una_funcion(x):\n",
    "    return (x-1)**5\n",
    "\n",
    "def d_una_funcion(x):\n",
    "    return 5*(x-1)**4\n",
    "\n",
    "def aleph(x):\n",
    "    return x**3"
   ]
  },
  {
   "cell_type": "code",
   "execution_count": 51,
   "metadata": {
    "collapsed": false
   },
   "outputs": [
    {
     "data": {
      "image/png": "[encoded data removed]",
      "text/plain": [
       "<matplotlib.figure.Figure at 0x7f5f4210a850>"
      ]
     },
     "metadata": {},
     "output_type": "display_data"
    }
   ],
   "source": [
    "x=linspace(0,2)\n",
    "plot(x,una_funcion(x))\n",
    "show()"
   ]
  },
  {
   "cell_type": "markdown",
   "metadata": {},
   "source": [
    "## Metodo de newton"
   ]
  },
  {
   "cell_type": "code",
   "execution_count": null,
   "metadata": {
    "collapsed": true
   },
   "outputs": [],
   "source": []
  },
  {
   "cell_type": "code",
   "execution_count": 52,
   "metadata": {
    "collapsed": false
   },
   "outputs": [
    {
     "data": {
      "image/png": "[encoded data removed]",
      "text/plain": [
       "<matplotlib.figure.Figure at 0x7f5f421f3e10>"
      ]
     },
     "metadata": {},
     "output_type": "display_data"
    }
   ],
   "source": [
    "x=linspace(-20,20)\n",
    "#y=linspace(-2,2)\n",
    "plot(x,una_funcion(x))\n",
    "plot(x,aleph(x))\n",
    "plot(x,d_una_funcion(x))\n",
    "show()"
   ]
  },
  {
   "cell_type": "code",
   "execution_count": 53,
   "metadata": {
    "collapsed": false
   },
   "outputs": [
    {
     "name": "stdout",
     "output_type": "stream",
     "text": [
      "La raiz es:  1 \t-4\n",
      "2 \t-3\n",
      "3 \t-2\n",
      "4 \t-1\n",
      "5 \t0\n",
      "1\n",
      "pi  3.14159265359\n"
     ]
    }
   ],
   "source": [
    "print \"La raiz es: \", mi_newton_1(una_funcion,d_una_funcion,-4,1e-9)\n",
    "print \"pi \", pi"
   ]
  },
  {
   "cell_type": "code",
   "execution_count": 54,
   "metadata": {
    "collapsed": true
   },
   "outputs": [],
   "source": [
    "def alumno(x):\n",
    "    return x**2 + tan(sqrt(-8*x + pi))**3\n",
    "\n",
    "def d_alumno(x):\n",
    "    return 2*x - 12*(tan(sqrt(-8*x + pi))**2 + 1)*tan(sqrt(-8*x + pi))**2/sqrt(-8*x + pi)"
   ]
  },
  {
   "cell_type": "code",
   "execution_count": 68,
   "metadata": {
    "collapsed": false
   },
   "outputs": [
    {
     "name": "stdout",
     "output_type": "stream",
     "text": [
      "1 \t-3\n",
      "2 \t-2.9318062049\n",
      "3 \t-2.94229732506\n",
      "4 \t-2.94267765788\n",
      "-2.94267812758\n",
      "\t\n",
      "1 \t-4\n",
      "2 \t-2.08230265647\n",
      "3 \t-1.98223724368\n",
      "4 \t-1.84419531028\n",
      "5 \t-1.64410621601\n",
      "6 \t-1.33678988885\n",
      "7 \t-0.890969748627\n",
      "8 \t-0.449053221684\n",
      "9 \t-0.456323592672\n",
      "10 \t-0.456490317248\n",
      "-0.4564904006\n",
      "\t\n",
      "paso:  1  raiz= -2.95\n",
      "paso:  2  raiz= -2.975\n",
      "paso:  3  raiz= -2.9625\n",
      "paso:  4  raiz= -2.95625\n",
      "paso:  5  raiz= -2.953125\n",
      "paso:  6  raiz= -2.9515625\n",
      "paso:  7  raiz= -2.95078125\n",
      "paso:  8  raiz= -2.950390625\n",
      "paso:  9  raiz= -2.9501953125\n",
      "paso:  10  raiz= -2.95009765625\n",
      "paso:  11  raiz= -2.95004882813\n",
      "paso:  12  raiz= -2.95002441406\n",
      "paso:  13  raiz= -2.95001220703\n",
      "paso:  14  raiz= -2.95000610352\n",
      "paso:  15  raiz= -2.95000305176\n",
      "paso:  16  raiz= -2.95000152588\n",
      "paso:  17  raiz= -2.95000076294\n",
      "paso:  18  raiz= -2.95000038147\n",
      "paso:  19  raiz= -2.95000019073\n",
      "paso:  20  raiz= -2.95000009537\n",
      "paso:  21  raiz= -2.95000004768\n",
      "paso:  22  raiz= -2.95000002384\n",
      "paso:  23  raiz= -2.95000001192\n",
      "paso:  24  raiz= -2.95000000596\n",
      "-2.95000000596\n"
     ]
    }
   ],
   "source": [
    "print mi_newton_1(alumno,d_alumno,-3)\n",
    "print \"\\t\"\n",
    "print mi_newton_1(alumno,d_alumno,-4)\n",
    "print \"\\t\"\n",
    "print raiz_bip(alumno,-3,-2.8)"
   ]
  },
  {
   "cell_type": "code",
   "execution_count": 70,
   "metadata": {
    "collapsed": false
   },
   "outputs": [
    {
     "data": {
      "image/png": "[encoded data removed]",
      "text/plain": [
       "<matplotlib.figure.Figure at 0x7f5f41e582d0>"
      ]
     },
     "metadata": {},
     "output_type": "display_data"
    }
   ],
   "source": [
    "x=linspace(-5,0,100)\n",
    "ylim([-30,30])\n",
    "plot(x,alumno(x),'-')\n",
    "plot([-2.94267812758],[0],'o')\n",
    "plot([-2.94267812758],[0],'x',markersize=20)\n",
    "plot([-0.4564904006],[0],'o')\n",
    "grid(true)\n",
    "show()"
   ]
  }
 ],
 "metadata": {
  "kernelspec": {
   "display_name": "Python [Root]",
   "language": "python",
   "name": "Python [Root]"
  },
  "language_info": {
   "codemirror_mode": {
    "name": "ipython",
    "version": 2
   },
   "file_extension": ".py",
   "mimetype": "text/x-python",
   "name": "python",
   "nbconvert_exporter": "python",
   "pygments_lexer": "ipython2",
   "version": "2.7.12"
  }
 },
 "nbformat": 4,
 "nbformat_minor": 0
}
