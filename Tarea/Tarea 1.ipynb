{
 "cells": [
  {
   "cell_type": "markdown",
   "metadata": {},
   "source": [
    "# TAREA 1"
   ]
  },
  {
   "cell_type": "markdown",
   "metadata": {},
   "source": [
    "1.−  Realice un notebook en el se programen y expliquen los siguientes algoritmos de integración de ecuaciones diferenciales:\n",
    "\n",
    "(a)Integración con método de Euler\n",
    "\n",
    "(b)Integración sobre serie de Taylor a 2o orden\n",
    "\n",
    "(c)Integración con método de Runge-Kutta de 2o orden\n",
    "\n",
    "(d)Integración con método de Runge-Kutta de 4o orden\n",
    "\n",
    "Verifique el funcionamiento de sus integradores encontrando la solución de la siguiente ecuación diferencial para $y(t)$:\n",
    "$$\\ddot x+0.5\\dot x+sin(x)=e^{−t}sin(3t)$$\n",
    "Con condiciones iniciales $\\dot x(0)=1$ y $x(0)=0$"
   ]
  },
  {
   "cell_type": "code",
   "execution_count": 17,
   "metadata": {
    "collapsed": false
   },
   "outputs": [],
   "source": [
    "#usaremos algunas librerias\n",
    "from pylab import *\n",
    "from numpy import *\n",
    "%matplotlib inline"
   ]
  },
  {
   "cell_type": "markdown",
   "metadata": {},
   "source": [
    "Para el metodo de Euler es necesario disminuir el orden de la EDO por tal mótivo tenemos que \n",
    "$$\\dot x = y$$ \n",
    "$$\\dot y = e^{-t}sin(3t)+0.5y+sin(x)$$\n",
    "por lo que tenemos etnonces que\n",
    "$$ x(0) = 0$$\n",
    "$$y(0)=1$$\n",
    "Definimos la función "
   ]
  },
  {
   "cell_type": "markdown",
   "metadata": {},
   "source": [
    "### EULER"
   ]
  },
  {
   "cell_type": "code",
   "execution_count": 28,
   "metadata": {
    "collapsed": true
   },
   "outputs": [],
   "source": [
    "#t_final limite de pasos, p_ini condición incial \n",
    "def euler(funcion,p_ini,x,h=0.01):\n",
    "    #\n",
    "    tiempos = arange(x[0],x[1] + h, h)\n",
    "    y = zeros((len(tiempos),len(p_ini)))\n",
    "    y[0,:] = p_ini\n",
    "    for i in range(len(tiempos)-1):\n",
    "        y[i+1] = y[i] + funcion(y[i],tiempos[i])*h\n",
    "        #solucion = [tiempos,y]\n",
    "    return tiempos,y"
   ]
  },
  {
   "cell_type": "markdown",
   "metadata": {},
   "source": [
    "\n",
    "### Taylor"
   ]
  },
  {
   "cell_type": "code",
   "execution_count": 20,
   "metadata": {
    "collapsed": true
   },
   "outputs": [],
   "source": [
    "def taylor2(funcion, d_funcion, p_ini, x, h=0.1):\n",
    "    tiempos = arange(x[0], x[1]+h, h)\n",
    "    solucion = zeros((len(tiempos), len(punto_inicial)))\n",
    "    solucion[0,:] = punto_inicial\n",
    "    for i in xrange(len(tiempos)-1):\n",
    "        f = ecuacion(solucion[i,:], tiempos[i])\n",
    "        df, jacobiano = d_ecuacion(solucion[i,:], tiempos[i])\n",
    "        solucion[i+1,:] = solucion[i,:]+h*f+(0.5*h*h*(df+dot(jacobiano, f)))\n",
    "    return tiempos, solucion"
   ]
  },
  {
   "cell_type": "code",
   "execution_count": 30,
   "metadata": {
    "collapsed": false
   },
   "outputs": [],
   "source": [
    "def f(t,omega=1):\n",
    "    return sin(omega*t)\n",
    "\n",
    "def funcion3(x,t,ommega=1):\n",
    "    y1 = x[1]\n",
    "    y2 = -0.5*sin(ommega*t) - 4*sin(x[0]) -(0.1*x[1])\n",
    "    return array ([y1,y2])\n",
    "\n"
   ]
  },
  {
   "cell_type": "code",
   "execution_count": 32,
   "metadata": {
    "collapsed": false
   },
   "outputs": [
    {
     "data": {
      "text/plain": [
       "[<matplotlib.lines.Line2D at 0x7f29e91aa510>]"
      ]
     },
     "execution_count": 32,
     "metadata": {},
     "output_type": "execute_result"
    },
    {
     "data": {
      "image/png": "[encoded data removed]",
      "text/plain": [
       "<matplotlib.figure.Figure at 0x7f29e91d1ad0>"
      ]
     },
     "metadata": {},
     "output_type": "display_data"
    }
   ],
   "source": [
    "k = 1\n",
    "while k <= 3:\n",
    "    \n",
    "    tiempos_euler, solucion_euler = euler(funcion3, array([0.0, 1.0]), [0, 10*pi])\n",
    "    plot(tiempos_euler, solucion_euler[:,0], label=\"Euler\")"
   ]
  }
 ],
 "metadata": {
  "kernelspec": {
   "display_name": "Python [Root]",
   "language": "python",
   "name": "Python [Root]"
  },
  "language_info": {
   "codemirror_mode": {
    "name": "ipython",
    "version": 2
   },
   "file_extension": ".py",
   "mimetype": "text/x-python",
   "name": "python",
   "nbconvert_exporter": "python",
   "pygments_lexer": "ipython2",
   "version": "2.7.12"
  }
 },
 "nbformat": 4,
 "nbformat_minor": 0
}
