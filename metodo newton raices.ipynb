{
 "cells": [
  {
   "cell_type": "code",
   "execution_count": 4,
   "metadata": {
    "collapsed": true
   },
   "outputs": [],
   "source": [
    "from pylab import *\n",
    "from scipy.integrate import *\n",
    "%matplotlib inline"
   ]
  },
  {
   "cell_type": "code",
   "execution_count": 102,
   "metadata": {
    "collapsed": true
   },
   "outputs": [],
   "source": [
    "def osc(y_vec,t,omega2=1.):\n",
    "    #y_vec son las variables y and v respectivamente.\n",
    "    dy = y_vec[1]\n",
    "    dv = -omega2*y_vec[0]-0.01*y_vec[1]+0.5*sin(2*t)\n",
    "    return array([dy,dv])"
   ]
  },
  {
   "cell_type": "code",
   "execution_count": 154,
   "metadata": {
    "collapsed": false
   },
   "outputs": [
    {
     "data": {
      "image/png": "[encoded data removed]",
      "text/plain": [
       "<matplotlib.figure.Figure at 0x7f02d58ad590>"
      ]
     },
     "metadata": {},
     "output_type": "display_data"
    }
   ],
   "source": [
    "t = linspace(0,10000,100000)\n",
    "ini = array([1.,8.])\n",
    "sol = odeint(osc,ini,t)\n",
    "plot(t,sol[:,0],label=\"y\")\n",
    "#plot(t,sol[:,1],label=\"v_y\")\n",
    "grid(True),legend()\n",
    "show()"
   ]
  },
  {
   "cell_type": "code",
   "execution_count": 155,
   "metadata": {
    "collapsed": false
   },
   "outputs": [],
   "source": [
    "def root_trayec(func,pto_i,ti,error=1e-5):\n",
    "    while abs(pto_i[0])>error:\n",
    "        tip1 = ti - (pto_i[0]/pto_i[1])\n",
    "        paso = odeint(func,pto_i,[ti,tip1])\n",
    "        ti,pto_i = tip1,paso[-1]\n",
    "    return ti,pto_i"
   ]
  },
  {
   "cell_type": "code",
   "execution_count": 156,
   "metadata": {
    "collapsed": false
   },
   "outputs": [
    {
     "name": "stdout",
     "output_type": "stream",
     "text": [
      "-0.124238650911 [ -1.00522703e-07   8.07990018e+00]\n"
     ]
    }
   ],
   "source": [
    "ind = 49\n",
    "#for i in range(ind):\n",
    "#    print sol[i]\n",
    "ti,pto_i=t[ind],sol[ind]\n",
    "error = 1e-5\n",
    "#while abs(pto_i[0])>error:\n",
    "#    tip1 = ti - (pto_i[0]/pto_i[1])\n",
    "#    paso = odeint(osc,pto_i,[ti,tip1])\n",
    "#    ti,pto_i = tip1,paso[-1]\n",
    "#print ti,pto_i\n",
    "t_raiz,punto=root_trayec(osc,pto_i,ti)\n",
    "print t_raiz,punto"
   ]
  },
  {
   "cell_type": "code",
   "execution_count": 157,
   "metadata": {
    "collapsed": false
   },
   "outputs": [],
   "source": [
    "num = len(t)\n",
    "raices = zeros(num)\n",
    "puntos=zeros((num,2))\n",
    "j=0\n",
    "for i in range(len(t)-1):\n",
    "    if(sol[i][0]*sol[i+1][0]) < 0:\n",
    "        raices[j],puntos[j]=root_trayec(osc,sol[i],t[i])\n",
    "        j+=1\n",
    "raices,puntos= raices[0:j],puntos[0:j]"
   ]
  },
  {
   "cell_type": "code",
   "execution_count": 158,
   "metadata": {
    "collapsed": false
   },
   "outputs": [
    {
     "data": {
      "image/png": "[encoded data removed]",
      "text/plain": [
       "<matplotlib.figure.Figure at 0x7f02d5898e90>"
      ]
     },
     "metadata": {},
     "output_type": "display_data"
    }
   ],
   "source": [
    "#xlim([-1.1,1.1]),\n",
    "ylim([-1.1,1.1])\n",
    "plot(raices,puntos[:,1],'.',markersize=0.8)\n",
    "show()"
   ]
  },
  {
   "cell_type": "code",
   "execution_count": 159,
   "metadata": {
    "collapsed": false
   },
   "outputs": [
    {
     "data": {
      "image/png": "[encoded data removed]",
      "text/plain": [
       "<matplotlib.figure.Figure at 0x7f02d4d9be90>"
      ]
     },
     "metadata": {},
     "output_type": "display_data"
    }
   ],
   "source": [
    "xlim([-1.1,1.1]),ylim([-1.1,1.1])\n",
    "plot(puntos[:,0],puntos[:,1],'.',markersize=0.8)\n",
    "show()"
   ]
  },
  {
   "cell_type": "code",
   "execution_count": 160,
   "metadata": {
    "collapsed": false
   },
   "outputs": [
    {
     "data": {
      "image/png": "[encoded data removed]",
      "text/plain": [
       "<matplotlib.figure.Figure at 0x7f02d50ffd50>"
      ]
     },
     "metadata": {},
     "output_type": "display_data"
    }
   ],
   "source": [
    "xlim([-1.1,1.1]),ylim([-1.1,1.1])\n",
    "plot(puntos[:,1],puntos[:,0],'.',markersize=0.8)\n",
    "show()"
   ]
  },
  {
   "cell_type": "code",
   "execution_count": 161,
   "metadata": {
    "collapsed": false
   },
   "outputs": [
    {
     "data": {
      "image/png": "[encoded data removed]",
      "text/plain": [
       "<matplotlib.figure.Figure at 0x7f02d4e03090>"
      ]
     },
     "metadata": {},
     "output_type": "display_data"
    }
   ],
   "source": [
    "#xlim([-1.1,1.1]),ylim([-1.1,1.1])\n",
    "plot(puntos[100,1],puntos[100,0],'o')\n",
    "show()"
   ]
  },
  {
   "cell_type": "code",
   "execution_count": 165,
   "metadata": {
    "collapsed": false
   },
   "outputs": [
    {
     "data": {
      "text/plain": [
       "[<matplotlib.lines.Line2D at 0x7f02d4c011d0>]"
      ]
     },
     "execution_count": 165,
     "metadata": {},
     "output_type": "execute_result"
    },
    {
     "data": {
      "image/png": "[encoded data removed]",
      "text/plain": [
       "<matplotlib.figure.Figure at 0x7f02d4c01390>"
      ]
     },
     "metadata": {},
     "output_type": "display_data"
    }
   ],
   "source": [
    "ylim([-1.1,1.1])\n",
    "plot(raices,puntos[:,0],'.',markersize=0.1)"
   ]
  }
 ],
 "metadata": {
  "kernelspec": {
   "display_name": "Python [Root]",
   "language": "python",
   "name": "Python [Root]"
  },
  "language_info": {
   "codemirror_mode": {
    "name": "ipython",
    "version": 2
   },
   "file_extension": ".py",
   "mimetype": "text/x-python",
   "name": "python",
   "nbconvert_exporter": "python",
   "pygments_lexer": "ipython2",
   "version": "2.7.12"
  }
 },
 "nbformat": 4,
 "nbformat_minor": 0
}
