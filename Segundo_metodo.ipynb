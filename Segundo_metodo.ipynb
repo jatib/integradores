{
 "cells": [
  {
   "cell_type": "markdown",
   "metadata": {},
   "source": [
    "# Mejorando el metodo de Euler\n"
   ]
  },
  {
   "cell_type": "markdown",
   "metadata": {},
   "source": [
    "\n",
    "\n",
    "\n",
    "Mejorando Euler:\n",
    "\n",
    "$$y_{n+1}=y_n+h*f(x_n,y_n)$$\n",
    "\n",
    "Tenemos que si sumamos...\n",
    "\n",
    "$$ \\int_{x_n}^{x_{n+1}}y'(x)dx=\\int_{x_n}^{x_{n+1}}f(x,y)dx$$\n",
    "\n",
    "Tenemos  entonces que:\n",
    "\n",
    "$$y(x_{n+1})-y(x_n)=\\int_{x_n}^{x_{n+1}}f(x,y)dx.....(*)$$ \n",
    "\n",
    "Despejando:\n",
    "\n",
    "$$y(x_{n+1})=y(x_n)+\\int_{x_n}^{x_{n+1}}f(x,y)dx.....(*)$$\n",
    "\n",
    "Entonces tenemos que:\n",
    "\n",
    "$$y_{n+1}= y_n+\\int_{x_n}^{x_{n+1}}f(x,y)dx$$\n",
    "\n",
    "Desarrollando en serie de Taylor\n",
    "\n",
    "$$f(x,y)=f(x_n,y_n)+f'(x_n,y_n)h+f''(x_n,y_n)\\dfrac{h^2}{2!}+O(h^3)$$\n",
    "\n",
    "Es decir que aproximando a primer orden tenemos:\n",
    "\n",
    "$$f(x,y)\\simeq f(x_n,y_n)+O(h)$$\n",
    "\n",
    "Una opción es:\n",
    "\n",
    "$$ y_{n+1}=y_n+hf(x_n,y_n)+O(h^2)$$\n",
    "\n",
    "dónde $O(h^2)=hO(h)$\n",
    "Una mejor opción es: \n",
    "\n",
    "$$ y_{n+1}=y_n+f'(x_n,y_n)h+O(h^2)$$\n",
    "\n",
    "derivando\n",
    "\n",
    "$$ \\dfrac{d}{dx}f(x,y)= \\dfrac{\\partial f}{\\partial x} + \\dfrac{\\partial f}{\\partial y}\\dfrac{dy}{dx}= \\dfrac{\\partial f}{\\partial x} + \\dfrac{\\partial f}{\\partial y}f$$\n",
    "\n",
    "dentro de $(*)$\n",
    "\n",
    "$$ y_{n+1}=y_n+hf(x_n,y_n)+ \\dfrac{h^2}{2}\\left( \\dfrac{\\partial f}{\\partial x} + \\dfrac{\\partial f}{\\partial y}f\\right)+O(h^3)$$\n",
    "\n",
    "Ahora veamos la segunda derivada\n",
    "\n",
    "$$ \\dfrac{d^2}{dx^2}f(x,y) = \\dfrac{d}{dx}\\left(\\dfrac{\\partial f}{\\partial x} + \\dfrac{\\partial f}{\\partial y}f\\right)$$\n",
    "\n",
    "Derivando tenemos:\n",
    "\n",
    "$$ \\dfrac{\\partial ^2 f}{\\partial x^2} + \\left(\\dfrac{\\partial ^2 f}{\\partial y \\partial x}+\\dfrac{\\partial ^2 f}{\\partial y ^2}\\right)f +\\left(\\dfrac{\\partial f}{\\partial x} + \\dfrac{\\partial f}{\\partial y}f\\right)^2 $$\n",
    "\n",
    "$$\\vec{y_{n+1}} = \\vec{f(x,\\vec{y})}$$"
   ]
  },
  {
   "cell_type": "markdown",
   "metadata": {},
   "source": [
    "Vamos a programar:\n",
    "$$ y_{n+1}=y_n+hf(x_n,y_n)+ \\dfrac{h^2}{2}\\left( \\dfrac{\\partial f}{\\partial x} + \\dfrac{\\partial f}{\\partial y}f\\right)$$\n",
    "\n",
    "donde $f$ y sus parciales están evaluadas en $f(x_n,y_n)$\n"
   ]
  },
  {
   "cell_type": "code",
   "execution_count": 20,
   "metadata": {
    "collapsed": true
   },
   "outputs": [],
   "source": [
    "from pylab import *\n",
    "%matplotlib inline"
   ]
  },
  {
   "cell_type": "code",
   "execution_count": 69,
   "metadata": {
    "collapsed": false
   },
   "outputs": [],
   "source": [
    "#ec_hac es el jacobiano\n",
    "def segundo_orden(ec_diff,p_ini,t_final,ec_jac,h=0.1):\n",
    "    tiempo = arange(0,t_final+h,h)\n",
    "    y = zeros(len(tiempo))\n",
    "    y[0] = p_ini\n",
    "    for i in range(len(tiempo)-1):\n",
    "        y[i+1] = y[i]+ h*ec_diff(y[i],tiempo[i])\n",
    "        y[i+1]+= 0.5*h*h*ec_jac(y[i],tiempo[i])[0]\n",
    "        y[i+1]+= 0.5*h*h*ec_jac(y[i],tiempo[i])[1]*ec_diff(y[i],tiempo[i])\n",
    "    return tiempo,y"
   ]
  },
  {
   "cell_type": "code",
   "execution_count": 34,
   "metadata": {
    "collapsed": true
   },
   "outputs": [],
   "source": [
    "def euler1(ec_diff,p_ini,t_final,h=0.1):\n",
    "    tiempo = arange(0,t_final+h,h)\n",
    "    y = zeros(len(tiempo))\n",
    "    y[0] = p_ini\n",
    "    for i in range(len(tiempo)-1):\n",
    "        y[i+1] = y[i]+ h*ec_diff(y[i],tiempo[i])\n",
    "    return tiempo,y"
   ]
  },
  {
   "cell_type": "code",
   "execution_count": 19,
   "metadata": {
    "collapsed": true
   },
   "outputs": [],
   "source": [
    "def ec_dif(y,x):\n",
    "    return x*sin(y)\n",
    "\n",
    "def d_ec_dif(y,x):\n",
    "    return sin(y),x*cos(y)"
   ]
  },
  {
   "cell_type": "code",
   "execution_count": 67,
   "metadata": {
    "collapsed": false
   },
   "outputs": [
    {
     "data": {
      "text/plain": [
       "(0.70710678118654746, 1.4142135623730951)"
      ]
     },
     "execution_count": 67,
     "metadata": {},
     "output_type": "execute_result"
    }
   ],
   "source": [
    "d_ec_dif(pi/4,2)"
   ]
  },
  {
   "cell_type": "code",
   "execution_count": 71,
   "metadata": {
    "collapsed": false
   },
   "outputs": [
    {
     "data": {
      "image/png": "[encoded data removed]",
      "text/plain": [
       "<matplotlib.figure.Figure at 0x7fbe10896390>"
      ]
     },
     "metadata": {},
     "output_type": "display_data"
    }
   ],
   "source": [
    "y_euler = euler1(ec_dif,1,2.5)\n",
    "y_euler_01 = euler1(ec_dif,1,2.5,0.01)\n",
    "y_seg = segundo_orden(ec_dif,1,2.5,d_ec_dif)\n",
    "plot(y_euler[0],y_euler[1],'--',label=\"Euler h=0.1\")\n",
    "plot(y_euler_01[0],y_euler_01[1],label=\"Euler h=0.01\")\n",
    "plot(y_seg[0],y_seg[1],'o',label=\"SG h=0.1\")\n",
    "legend()\n",
    "show()"
   ]
  }
 ],
 "metadata": {
  "kernelspec": {
   "display_name": "Python [Root]",
   "language": "python",
   "name": "Python [Root]"
  },
  "language_info": {
   "codemirror_mode": {
    "name": "ipython",
    "version": 2
   },
   "file_extension": ".py",
   "mimetype": "text/x-python",
   "name": "python",
   "nbconvert_exporter": "python",
   "pygments_lexer": "ipython2",
   "version": "2.7.12"
  }
 },
 "nbformat": 4,
 "nbformat_minor": 0
}
