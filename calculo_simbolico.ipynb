{
 "cells": [
  {
   "cell_type": "code",
   "execution_count": 1,
   "metadata": {
    "collapsed": true
   },
   "outputs": [],
   "source": [
    "from sympy import *\n"
   ]
  },
  {
   "cell_type": "code",
   "execution_count": 2,
   "metadata": {
    "collapsed": false
   },
   "outputs": [
    {
     "data": {
      "text/plain": [
       "x**2 + tan(sqrt(-8*x + pi))**3"
      ]
     },
     "execution_count": 2,
     "metadata": {},
     "output_type": "execute_result"
    }
   ],
   "source": [
    "x = Symbol('x')\n",
    "f = (tan(sqrt(pi-8*x)))**3+x**2\n",
    "f"
   ]
  },
  {
   "cell_type": "code",
   "execution_count": 3,
   "metadata": {
    "collapsed": false
   },
   "outputs": [
    {
     "data": {
      "text/plain": [
       "768*(tan(sqrt(-8*x + pi))**2 + 1)*(40*(tan(sqrt(-8*x + pi))**2 + 1)**2*tan(sqrt(-8*x + pi))/(8*x - pi)**2 + 72*(tan(sqrt(-8*x + pi))**2 + 1)*tan(sqrt(-8*x + pi))**3/(8*x - pi)**2 + 8*tan(sqrt(-8*x + pi))**5/(8*x - pi)**2 - 30*(tan(sqrt(-8*x + pi))**2 + 1)*tan(sqrt(-8*x + pi))/(8*x - pi)**3 - 30*tan(sqrt(-8*x + pi))**3/(8*x - pi)**3 - 12*(tan(sqrt(-8*x + pi))**2 + 1)**2/(-8*x + pi)**(5/2) - 84*(tan(sqrt(-8*x + pi))**2 + 1)*tan(sqrt(-8*x + pi))**2/(-8*x + pi)**(5/2) - 24*tan(sqrt(-8*x + pi))**4/(-8*x + pi)**(5/2) - 15*tan(sqrt(-8*x + pi))**2/(-8*x + pi)**(7/2))"
      ]
     },
     "execution_count": 3,
     "metadata": {},
     "output_type": "execute_result"
    }
   ],
   "source": [
    "diff(f,x,x,x,x)"
   ]
  },
  {
   "cell_type": "code",
   "execution_count": 4,
   "metadata": {
    "collapsed": false
   },
   "outputs": [
    {
     "data": {
      "text/plain": [
       "2*x - 12*(tan(sqrt(-8*x + pi))**2 + 1)*tan(sqrt(-8*x + pi))**2/sqrt(-8*x + pi)"
      ]
     },
     "execution_count": 4,
     "metadata": {},
     "output_type": "execute_result"
    }
   ],
   "source": [
    "diff(f,x)"
   ]
  }
 ],
 "metadata": {
  "kernelspec": {
   "display_name": "Python [Root]",
   "language": "python",
   "name": "Python [Root]"
  },
  "language_info": {
   "codemirror_mode": {
    "name": "ipython",
    "version": 2
   },
   "file_extension": ".py",
   "mimetype": "text/x-python",
   "name": "python",
   "nbconvert_exporter": "python",
   "pygments_lexer": "ipython2",
   "version": "2.7.12"
  }
 },
 "nbformat": 4,
 "nbformat_minor": 0
}
