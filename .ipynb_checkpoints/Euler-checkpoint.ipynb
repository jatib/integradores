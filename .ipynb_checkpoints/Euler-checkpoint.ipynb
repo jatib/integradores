{
 "cells": [
  {
   "cell_type": "markdown",
   "metadata": {},
   "source": [
    "# Resolviendo ecuaciones diferenciales: Metodo de Euler "
   ]
  },
  {
   "cell_type": "markdown",
   "metadata": {},
   "source": [
    "Recordemos que\n",
    "\n",
    "$$f(x+h)=f(x)+f'(x)h$$ \n",
    "\n",
    "Tenemos que\n",
    "\n",
    "$$f'(x)=\\dfrac{f(x+h)-f(x)}{h}$$\n",
    "\n",
    "Para resolver una ED usaremos el metodo de Euler que nos dice:\n",
    "\n",
    "$$f(x_{i+1})=f(x_i)+g(f_i,x_i)*h$$\n",
    "\n",
    "Es decir:\n",
    "\n",
    "$$ y_{n+1}=y_n+h*f(x_n,y_n) dónde y'(x)=f(x,y) \\and y(x_0)=y_0 \\and O(h^2)$$"
   ]
  },
  {
   "cell_type": "code",
   "execution_count": 2,
   "metadata": {
    "collapsed": false
   },
   "outputs": [],
   "source": [
    "from numpy import *\n",
    "%matplotlib inline\n",
    "from pylab import *"
   ]
  },
  {
   "cell_type": "code",
   "execution_count": 3,
   "metadata": {
    "collapsed": false
   },
   "outputs": [
    {
     "name": "stdout",
     "output_type": "stream",
     "text": [
      "[ 0.   0.1  0.2  0.3  0.4  0.5  0.6  0.7  0.8  0.9  1.   1.1  1.2  1.3  1.4\n",
      "  1.5  1.6  1.7  1.8  1.9  2.   2.1  2.2  2.3  2.4  2.5  2.6  2.7  2.8  2.9\n",
      "  3. ]\n"
     ]
    }
   ],
   "source": [
    "    tiempos = arange(0,3+0.1,0.1)\n",
    "    print tiempos"
   ]
  },
  {
   "cell_type": "code",
   "execution_count": 4,
   "metadata": {
    "collapsed": false
   },
   "outputs": [],
   "source": [
    "def euler(funcion,p_ini,t_final,h=0.01):\n",
    "    tiempos = arange(p_ini[0],t_final+h,h)\n",
    "    y = zeros(len(tiempos))\n",
    "    y[0] = p_ini[1]\n",
    "    for i in range(len(tiempos)-1):\n",
    "        y[i+1] = y[i] + funcion(y[i],tiempos[i])*h\n",
    "        solucion = [tiempos,y]\n",
    "    return solucion"
   ]
  },
  {
   "cell_type": "markdown",
   "metadata": {},
   "source": [
    "Esta es la ecuación diferencial a resolver $$ f'(x)=f(x)$$"
   ]
  },
  {
   "cell_type": "code",
   "execution_count": 5,
   "metadata": {
    "collapsed": true
   },
   "outputs": [],
   "source": [
    "def mi_ec_diff(y,t):\n",
    "    return y\n"
   ]
  },
  {
   "cell_type": "code",
   "execution_count": 6,
   "metadata": {
    "collapsed": false
   },
   "outputs": [
    {
     "data": {
      "image/png": "[encoded data removed]",
      "text/plain": [
       "<matplotlib.figure.Figure at 0x7f9eb8fb63d0>"
      ]
     },
     "metadata": {},
     "output_type": "display_data"
    }
   ],
   "source": [
    "sol = euler(mi_ec_diff,[0,1],10.,0.0001)\n",
    "plot(sol[0],sol[1],sol[0],exp(sol[0]))\n",
    "show()"
   ]
  },
  {
   "cell_type": "code",
   "execution_count": 7,
   "metadata": {
    "collapsed": false
   },
   "outputs": [],
   "source": [
    "def Erandi(f,x):\n",
    "    return (1./sin(x)+2)*(((2*f/sqrt(3))**2)-1)"
   ]
  },
  {
   "cell_type": "code",
   "execution_count": 8,
   "metadata": {
    "collapsed": false
   },
   "outputs": [
    {
     "ename": "IndentationError",
     "evalue": "unexpected indent (<ipython-input-8-3ac2cacdf8ad>, line 2)",
     "output_type": "error",
     "traceback": [
      "\u001b[1;36m  File \u001b[1;32m\"<ipython-input-8-3ac2cacdf8ad>\"\u001b[1;36m, line \u001b[1;32m2\u001b[0m\n\u001b[1;33m    for i in hs:\u001b[0m\n\u001b[1;37m    ^\u001b[0m\n\u001b[1;31mIndentationError\u001b[0m\u001b[1;31m:\u001b[0m unexpected indent\n"
     ]
    }
   ],
   "source": [
    "hs = euler(Erandi,[0,1],3.,0.001)\n",
    "    for i in hs:\n",
    "    plot(sol[0],sol[1],sol[0],s)\n",
    "show()"
   ]
  },
  {
   "cell_type": "code",
   "execution_count": null,
   "metadata": {
    "collapsed": false
   },
   "outputs": [],
   "source": [
    "a=[0]*5\n",
    "print a\n",
    "a[1]=array([6,6])\n",
    "print a"
   ]
  },
  {
   "cell_type": "code",
   "execution_count": null,
   "metadata": {
    "collapsed": true
   },
   "outputs": [],
   "source": [
    "def eulers(funcion,p_ini,t_final,h=0.01):\n",
    "    tiempos = arange(p_ini[0],t_final+h,h)\n",
    "    y = [0]*len(tiempos) #zeros(len(tiempos))\n",
    "    y[0] = p_ini[1]\n",
    "    for i in range(len(tiempos)-1):\n",
    "        y[i+1] = y[i] + funcion(y[i],tiempos[i])*h\n",
    "        solucion = [tiempos,y]\n",
    "    return solucion\n",
    "\n"
   ]
  },
  {
   "cell_type": "code",
   "execution_count": null,
   "metadata": {
    "collapsed": false
   },
   "outputs": [],
   "source": [
    "def segundo_orden(y,t):\n",
    "    return array([y[1],-y[0]])"
   ]
  },
  {
   "cell_type": "markdown",
   "metadata": {},
   "source": [
    "$$y\"+y=0$$\n",
    "$$y'=v$$\n",
    "$$v'=-y$$\n",
    "$$\n",
    "\\left( \\begin{array}{c}\n",
    "y \\\\\n",
    "v \\end{array} \\right)'= \\left( \\begin{array}{c}\n",
    "v \\\\\n",
    "-y \\end{array} \\right)'$$\n",
    "$$ \\int\\left( \\begin{array}{c}\n",
    "y \\\\\n",
    "v \\end{array} \\right)'dt=\\left( \\begin{array}{c}\n",
    "sol[1]: datos de 1era entrada \\\\\n",
    "sol[1]: datos de 2da entrada \\end{array} \\right)$$\n",
    "$$(y,v)\\rightarrow(v,-y)\\rightarrow(y(t),v(t))$$"
   ]
  },
  {
   "cell_type": "code",
   "execution_count": null,
   "metadata": {
    "collapsed": false
   },
   "outputs": [],
   "source": [
    "sol = eulers(segundo_orden,[0,array([0,1])],100)\n",
    "#print sol[1]\n",
    "print \"datos que yo quiero\"\n",
    "#print sol[1][3][0]\n",
    "y = zeros(len(sol[0]))\n",
    "v = y\n",
    "for i in range(len(sol[1])):\n",
    "    y[i]=sol[1][i][1]\n",
    "    v[i]=sol[1][i][0]\n",
    "    #print sol[1][i][0],\" \\t \\t\", sol[1][i][1]\n",
    "plot(sol[0],y)\n",
    "plot(sol[0],sin(sol[0]))\n",
    "plot(y,v)\n",
    "    "
   ]
  },
  {
   "cell_type": "code",
   "execution_count": null,
   "metadata": {
    "collapsed": false
   },
   "outputs": [],
   "source": [
    "plot(y,v)"
   ]
  },
  {
   "cell_type": "code",
   "execution_count": null,
   "metadata": {
    "collapsed": false
   },
   "outputs": [],
   "source": [
    "from math import * \n",
    "\n",
    "def factorial(n):\n",
    "    fac,num = 1,range(2,n+1)\n",
    "    for n in num:\n",
    "        fac = fac*n\n",
    "    return fac"
   ]
  },
  {
   "cell_type": "code",
   "execution_count": null,
   "metadata": {
    "collapsed": true
   },
   "outputs": [],
   "source": [
    "def mi_sine(x,n_max=10):\n",
    "    x,y = x%(2*pi),0.\n",
    "    if x <= (pi/2):\n",
    "        print \"intervalo 1\"\n",
    "    elif (pi/2) < x <= pi:\n",
    "        print \"intervalo 2\"\n",
    "        x = pi-x\n",
    "    elif pi < x <= ((3*pi)/2):\n",
    "        print \"intervalo 3\"\n",
    "        x = -(x-pi)\n",
    "    else:\n",
    "        print \"intervalo 4\"\n",
    "        x = x-2*pi\n",
    "    for n in range(n_max):\n",
    "        p = 2*n+1\n",
    "        y += ((-1)**n)*(x**(p)/factorial(p))\n",
    "    return y"
   ]
  },
  {
   "cell_type": "code",
   "execution_count": null,
   "metadata": {
    "collapsed": false
   },
   "outputs": [],
   "source": [
    "factorial(5)"
   ]
  }
 ],
 "metadata": {
  "kernelspec": {
   "display_name": "Python [Root]",
   "language": "python",
   "name": "Python [Root]"
  },
  "language_info": {
   "codemirror_mode": {
    "name": "ipython",
    "version": 2
   },
   "file_extension": ".py",
   "mimetype": "text/x-python",
   "name": "python",
   "nbconvert_exporter": "python",
   "pygments_lexer": "ipython2",
   "version": "2.7.12"
  }
 },
 "nbformat": 4,
 "nbformat_minor": 0
}
