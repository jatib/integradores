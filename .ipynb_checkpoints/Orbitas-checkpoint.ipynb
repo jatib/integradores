{
 "cells": [
  {
   "cell_type": "code",
   "execution_count": 16,
   "metadata": {
    "collapsed": false
   },
   "outputs": [],
   "source": [
    "from pylab import *\n",
    "%run \"mis_int.ipynb\"\n",
    "%matplotlib inline"
   ]
  },
  {
   "cell_type": "markdown",
   "metadata": {},
   "source": [
    "Hay que resolver\n",
    "$$\\dfrac{d²\\vec \\rho}{d \\tau ^2}=-\\dfrac{\\hat \\rho}{\\rho ²}$$"
   ]
  },
  {
   "cell_type": "code",
   "execution_count": 10,
   "metadata": {
    "collapsed": true
   },
   "outputs": [],
   "source": [
    "def mov_planeta(x,t):\n",
    "    r3 = (x[0]**2 + x[1]**2)**(1.5)\n",
    "    drx = x[2]\n",
    "    dry = x[3]\n",
    "    dvrx = -x[0]/r3\n",
    "    dvry = -x[1]/r3\n",
    "    return array([drx,dry,dvrx,dvry])\n",
    "def J_mov_planeta(x,t):\n",
    "    d_ec = array([0,0,0,0])\n",
    "    r5 = (x[0]**2 + x[1]**2)**(2.5)\n",
    "    rxmry = (2*x[0]*x[0]-x[1]*x[1])/r5\n",
    "    rymrx = (2*x[1]*x[1]-x[0]*x[0])/r5\n",
    "    rxry= (3*x[0]*x[1])/r5\n",
    "    Jac = array([[0,0,1,0],[0,0,0,1],[rxmry,rxry,0,0],[rxry,rymrx,0,0]])\n",
    "    return d_ec, Jac"
   ]
  },
  {
   "cell_type": "code",
   "execution_count": 42,
   "metadata": {
    "collapsed": false
   },
   "outputs": [
    {
     "data": {
      "image/png": "[encoded data removed]",
      "text/plain": [
       "<matplotlib.figure.Figure at 0x7fb1c04e9c50>"
      ]
     },
     "metadata": {},
     "output_type": "display_data"
    },
    {
     "name": "stdout",
     "output_type": "stream",
     "text": [
      "CPU times: user 117 ms, sys: 0 ns, total: 117 ms\n",
      "Wall time: 116 ms\n"
     ]
    }
   ],
   "source": [
    "%%time\n",
    "t,r_vr =rk2(mov_planeta,[1,0,.6,.9],[0,10],0.1)\n",
    "zoom = 2\n",
    "xlim([-zoom,zoom]),ylim([-zoom,zoom])\n",
    "axes().set_aspect('equal'),grid(True)\n",
    "plot(r_vr[:,0],r_vr[:,1],'.')\n",
    "show()"
   ]
  },
  {
   "cell_type": "code",
   "execution_count": 43,
   "metadata": {
    "collapsed": false
   },
   "outputs": [
    {
     "data": {
      "image/png": "[encoded data removed]",
      "text/plain": [
       "<matplotlib.figure.Figure at 0x7fb194290150>"
      ]
     },
     "metadata": {},
     "output_type": "display_data"
    },
    {
     "name": "stdout",
     "output_type": "stream",
     "text": [
      "CPU times: user 129 ms, sys: 1.97 ms, total: 131 ms\n",
      "Wall time: 129 ms\n"
     ]
    }
   ],
   "source": [
    "%%time\n",
    "t,r_vr =integra2(mov_planeta,J_mov_planeta,[1,0,.6,.9],[0,10],0.1)\n",
    "zoom = 2\n",
    "xlim([-zoom,zoom]),ylim([-zoom,zoom])\n",
    "axes().set_aspect('equal'),grid(True)\n",
    "plot(r_vr[:,0],r_vr[:,1],'.')\n",
    "show()"
   ]
  },
  {
   "cell_type": "code",
   "execution_count": 46,
   "metadata": {
    "collapsed": false
   },
   "outputs": [
    {
     "data": {
      "image/png": "[encoded data removed]",
      "text/plain": [
       "<matplotlib.figure.Figure at 0x7fb1c0500e90>"
      ]
     },
     "metadata": {},
     "output_type": "display_data"
    },
    {
     "name": "stdout",
     "output_type": "stream",
     "text": [
      "CPU times: user 110 ms, sys: 3.96 ms, total: 114 ms\n",
      "Wall time: 112 ms\n"
     ]
    }
   ],
   "source": [
    "%%time\n",
    "t,r_vr =rk4(mov_planeta,[1,0,.6,.9],[0,10],0.1)\n",
    "zoom = 2\n",
    "xlim([-zoom,zoom]),ylim([-zoom,zoom])\n",
    "axes().set_aspect('equal'),grid(True)\n",
    "plot(r_vr[:,0],r_vr[:,1],'.')\n",
    "show()"
   ]
  }
 ],
 "metadata": {
  "kernelspec": {
   "display_name": "Python [Root]",
   "language": "python",
   "name": "Python [Root]"
  },
  "language_info": {
   "codemirror_mode": {
    "name": "ipython",
    "version": 2
   },
   "file_extension": ".py",
   "mimetype": "text/x-python",
   "name": "python",
   "nbconvert_exporter": "python",
   "pygments_lexer": "ipython2",
   "version": "2.7.12"
  }
 },
 "nbformat": 4,
 "nbformat_minor": 0
}
