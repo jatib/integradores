{
 "cells": [
  {
   "cell_type": "code",
   "execution_count": null,
   "metadata": {
    "collapsed": true
   },
   "outputs": [],
   "source": [
    "from pylab import *\n",
    "%matplotlib inline"
   ]
  },
  {
   "cell_type": "code",
   "execution_count": null,
   "metadata": {
    "collapsed": true
   },
   "outputs": [],
   "source": [
    "def rk4(ec,p_ini,x,args=0,h=0.01):\n",
    "    if (x[1]-x[0]) <= 5.*h:\n",
    "        h = (x[1]-x[0])/10\n",
    "    tiempos = arange(x[0],x[1]+h,h)\n",
    "    sol = zeros((len(tiempos),len(p_ini)))\n",
    "    sol[0,:] = p_ini\n",
    "    if args==0:\n",
    "        for i in xrange(len(tiempos)-1):\n",
    "            k1 = ec(sol[i,:],tiempos[i])\n",
    "            k2 = ec(sol[i,:]+0.5*h*k1,tiempos[i]+0.5*h)\n",
    "            k3 = ec(sol[i,:]+0.5*h*k2,tiempos[i]+0.5*h)\n",
    "            k4 = ec(sol[i,:]+h*k3,tiempos[i]+h)\n",
    "            sol[i+1,:]=sol[i,:]+(h/6.)*(k1+2*k2+2*k3+k4)\n",
    "    else:\n",
    "        for i in xrange(len(tiempos)-1):\n",
    "            k1 = ec(sol[i,:],tiempos[i],args)\n",
    "            k2 = ec(sol[i,:]+0.5*h*k1,tiempos[i]+0.5*h,args)\n",
    "            k3 = ec(sol[i,:]+0.5*h*k2,tiempos[i]+0.5*h,args)\n",
    "            k4 = ec(sol[i,:]+h*k3,tiempos[i]+h,args)\n",
    "            sol[i+1,:]=sol[i,:]+(h/6.)*(k1+2*k2+2*k3+k4)\n",
    "    return tiempos,sol\n"
   ]
  },
  {
   "cell_type": "code",
   "execution_count": null,
   "metadata": {
    "collapsed": true
   },
   "outputs": [],
   "source": [
    "def mov(xp_xs,t,a_b=[0,0]):\n",
    "    rp = sqrt( xp_xs[0]**2 + xp_xs[1]**2 )\n",
    "    rs = "
   ]
  }
 ],
 "metadata": {
  "kernelspec": {
   "display_name": "Python [Root]",
   "language": "python",
   "name": "Python [Root]"
  },
  "language_info": {
   "codemirror_mode": {
    "name": "ipython",
    "version": 2
   },
   "file_extension": ".py",
   "mimetype": "text/x-python",
   "name": "python",
   "nbconvert_exporter": "python",
   "pygments_lexer": "ipython2",
   "version": "2.7.12"
  }
 },
 "nbformat": 4,
 "nbformat_minor": 0
}
